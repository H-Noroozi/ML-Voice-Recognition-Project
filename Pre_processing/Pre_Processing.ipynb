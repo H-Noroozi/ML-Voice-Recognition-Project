{
 "cells": [
  {
   "cell_type": "markdown",
   "metadata": {},
   "source": [
    "                                                            |Pre processing data|"
   ]
  },
  {
   "cell_type": "markdown",
   "metadata": {},
   "source": [
    "1. Importing Libraries and defining certain constants"
   ]
  },
  {
   "cell_type": "code",
   "execution_count": 1,
   "metadata": {},
   "outputs": [],
   "source": [
    "import librosa\n",
    "import os\n",
    "import json\n",
    "import numpy as np\n",
    "\n",
    "DATASET_PATH = 'voiceAuth'\n",
    "JSON_PATH = \"auth.json\"\n",
    "SAMPLES_TO_CONSIDER = 22050 #equivalent to 1 second\n",
    "\n"
   ]
  },
  {
   "cell_type": "markdown",
   "metadata": {},
   "source": [
    "2. Preparing the dataset"
   ]
  },
  {
   "cell_type": "code",
   "execution_count": 2,
   "metadata": {},
   "outputs": [],
   "source": [
    "def prepare_dataset(dataset_path, json_path, n_mfcc=13, hop_length=512, n_fft=2048):\n",
    "    print(\"wtf12\")\n",
    "    #data dictionary\n",
    "    data = {\n",
    "        \"mappings\": [], #ID?\n",
    "        \"labels_gender\": [], #either 0 or 1 for female or male\n",
    "        \"labels_ID\": [],\n",
    "        \"MFCCs\": [],\n",
    "        \"files\":[]\n",
    "    }\n",
    "    \n",
    "    #loop through all the sub-dirs\n",
    "    for f in os.listdir(dataset_path):\n",
    "        f = os.path.join(dataset_path, f)\n",
    "        print(\"wtf1\")\n",
    "            \n",
    "        # get file path\n",
    "        print(\"file path\", f)\n",
    "                \n",
    "        # load audio file\n",
    "        signal, sr = librosa.load(f)\n",
    "                \n",
    "        # ensure the audio file at least 1 sec\n",
    "        if len(signal) >= 3*SAMPLES_TO_CONSIDER:\n",
    "            # splitting the name\n",
    "            filename_extracted = f.split('_')\n",
    "            label_gender = filename_extracted[3].split(\".\")[0]\n",
    "            \n",
    "            # 0 for male and 1 for female\n",
    "            if label_gender == 'male':\n",
    "                label_gender = 0\n",
    "            else:\n",
    "                label_gender = 1\n",
    "            labels = [label_gender,filename_extracted[2]]\n",
    "        \n",
    "            print(labels)\n",
    "            \n",
    "            for i in range(0,2):\n",
    "                # enforce 1 sec. long signal\n",
    "                signal = signal[SAMPLES_TO_CONSIDER*(i):SAMPLES_TO_CONSIDER*(i+1)]\n",
    "                # extract the MFCCs\n",
    "                MFCCs = librosa.feature.mfcc(y=signal, n_mfcc=n_mfcc, hop_length=hop_length,n_fft=n_fft)\n",
    "                MFCCs = np.mean(MFCCs.T, axis=0)\n",
    "            \n",
    "                # store data\n",
    "                data[\"labels_gender\"].append(labels[0])\n",
    "                data[\"labels_ID\"].append(labels[1])\n",
    "                data[\"MFCCs\"].append(MFCCs.T.tolist())\n",
    "                data[\"files\"].append(f)\n",
    "            \n",
    "            \n",
    "            \n",
    "    # store in json file\n",
    "    with open(json_path, \"w\") as fp:\n",
    "        json.dump(data, fp, indent=4)\n",
    "    "
   ]
  },
  {
   "cell_type": "code",
   "execution_count": 3,
   "metadata": {},
   "outputs": [
    {
     "name": "stdout",
     "output_type": "stream",
     "text": [
      "wtf12\n",
      "wtf1\n",
      "file path voiceAuth\\HW1_Q4_810102087_female.mp3\n",
      "[1, '810102087']\n"
     ]
    },
    {
     "ename": "NameError",
     "evalue": "name 'signal_smp1' is not defined",
     "output_type": "error",
     "traceback": [
      "\u001b[1;31m---------------------------------------------------------------------------\u001b[0m",
      "\u001b[1;31mNameError\u001b[0m                                 Traceback (most recent call last)",
      "Cell \u001b[1;32mIn[3], line 1\u001b[0m\n\u001b[1;32m----> 1\u001b[0m \u001b[43mprepare_dataset\u001b[49m\u001b[43m(\u001b[49m\u001b[43mDATASET_PATH\u001b[49m\u001b[43m,\u001b[49m\u001b[43m \u001b[49m\u001b[43mJSON_PATH\u001b[49m\u001b[43m)\u001b[49m\n",
      "Cell \u001b[1;32mIn[2], line 42\u001b[0m, in \u001b[0;36mprepare_dataset\u001b[1;34m(dataset_path, json_path, n_mfcc, hop_length, n_fft)\u001b[0m\n\u001b[0;32m     40\u001b[0m signal \u001b[38;5;241m=\u001b[39m signal[SAMPLES_TO_CONSIDER\u001b[38;5;241m*\u001b[39m(i):SAMPLES_TO_CONSIDER\u001b[38;5;241m*\u001b[39m(i\u001b[38;5;241m+\u001b[39m\u001b[38;5;241m1\u001b[39m)]\n\u001b[0;32m     41\u001b[0m \u001b[38;5;66;03m# extract the MFCCs\u001b[39;00m\n\u001b[1;32m---> 42\u001b[0m MFCCs \u001b[38;5;241m=\u001b[39m librosa\u001b[38;5;241m.\u001b[39mfeature\u001b[38;5;241m.\u001b[39mmfcc(y\u001b[38;5;241m=\u001b[39m\u001b[43msignal_smp1\u001b[49m, n_mfcc\u001b[38;5;241m=\u001b[39mn_mfcc, hop_length\u001b[38;5;241m=\u001b[39mhop_length,n_fft\u001b[38;5;241m=\u001b[39mn_fft)\n\u001b[0;32m     43\u001b[0m MFCCs \u001b[38;5;241m=\u001b[39m np\u001b[38;5;241m.\u001b[39mmean(MFCCs\u001b[38;5;241m.\u001b[39mT, axis\u001b[38;5;241m=\u001b[39m\u001b[38;5;241m0\u001b[39m)\n\u001b[0;32m     45\u001b[0m \u001b[38;5;66;03m# store data\u001b[39;00m\n",
      "\u001b[1;31mNameError\u001b[0m: name 'signal_smp1' is not defined"
     ]
    }
   ],
   "source": [
    "prepare_dataset(DATASET_PATH, JSON_PATH)"
   ]
  }
 ],
 "metadata": {
  "kernelspec": {
   "display_name": "base",
   "language": "python",
   "name": "python3"
  },
  "language_info": {
   "codemirror_mode": {
    "name": "ipython",
    "version": 3
   },
   "file_extension": ".py",
   "mimetype": "text/x-python",
   "name": "python",
   "nbconvert_exporter": "python",
   "pygments_lexer": "ipython3",
   "version": "3.10.9"
  }
 },
 "nbformat": 4,
 "nbformat_minor": 2
}
