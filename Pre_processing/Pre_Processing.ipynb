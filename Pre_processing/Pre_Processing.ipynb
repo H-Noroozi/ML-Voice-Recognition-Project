{
 "cells": [
  {
   "cell_type": "markdown",
   "metadata": {},
   "source": [
    "                                                            |Pre processing data|"
   ]
  },
  {
   "cell_type": "markdown",
   "metadata": {},
   "source": [
    "1. Importing Libraries and defining certain constants"
   ]
  },
  {
   "cell_type": "code",
   "execution_count": 7,
   "metadata": {},
   "outputs": [],
   "source": [
    "import librosa\n",
    "import os\n",
    "import json\n",
    "import numpy as np\n",
    "\n",
    "DATASET_PATH = 'voiceAuth'\n",
    "JSON_PATH = \"auth.json\"\n",
    "SAMPLES_TO_CONSIDER = 22050 #equivalent to 1 second\n",
    "\n"
   ]
  },
  {
   "cell_type": "markdown",
   "metadata": {},
   "source": [
    "2. Preparing the dataset"
   ]
  },
  {
   "cell_type": "code",
   "execution_count": 8,
   "metadata": {},
   "outputs": [],
   "source": [
    "def prepare_dataset(dataset_path, json_path, n_mfcc=13, hop_length=512, n_fft=2048):\n",
    "    print(\"wtf12\")\n",
    "    #data dictionary\n",
    "    data = {\n",
    "        \"mappings\": [], #ID?\n",
    "        \"labels_gender\": [], #either 0 or 1 for female or male\n",
    "        \"labels_ID\": [],\n",
    "        \"MFCCs\": [],\n",
    "        \"files\":[]\n",
    "    }\n",
    "    \n",
    "    #loop through all the sub-dirs\n",
    "    for f in os.listdir(dataset_path):\n",
    "        f = os.path.join(dataset_path, f)\n",
    "        print(\"wtf1\")\n",
    "            \n",
    "        # get file path\n",
    "        print(\"file path\", f)\n",
    "                \n",
    "        # load audio file\n",
    "        signal, sr = librosa.load(f)\n",
    "                \n",
    "        # ensure the audio file at least 1 sec\n",
    "        if len(signal) >= SAMPLES_TO_CONSIDER:\n",
    "            \n",
    "            # enforce 1 sec. long signal\n",
    "            signal_smp1 = signal[:SAMPLES_TO_CONSIDER]\n",
    "            # extract the MFCCs\n",
    "            MFCCs_smp1 = librosa.feature.mfcc(y=signal_smp1, n_mfcc=n_mfcc, hop_length=hop_length,n_fft=n_fft)\n",
    "            MFCCs_smp1 = np.mean(MFCCs_smp1.T, axis=0)\n",
    "            \n",
    "            # enforce 1 sec. long signal\n",
    "            signal_smp2 = signal[SAMPLES_TO_CONSIDER:2*SAMPLES_TO_CONSIDER]       \n",
    "            # extract the MFCCs\n",
    "            MFCCs_smp2 = librosa.feature.mfcc(y=signal_smp1, n_mfcc=n_mfcc, hop_length=hop_length,n_fft=n_fft)\n",
    "            MFCCs_smp2 = np.mean(MFCCs_smp2.T, axis=0)\n",
    "            \n",
    "            # enforce 1 sec. long signal\n",
    "            signal_smp3 = signal[2*SAMPLES_TO_CONSIDER:3*SAMPLES_TO_CONSIDER]\n",
    "            # extract the MFCCs\n",
    "            MFCCs_smp3 = librosa.feature.mfcc(y=signal_smp1, n_mfcc=n_mfcc, hop_length=hop_length,n_fft=n_fft)\n",
    "            MFCCs_smp3 = np.mean(MFCCs_smp3.T, axis=0)\n",
    "            \n",
    "            # splitting the name\n",
    "            filename_extracted = f.split('_')\n",
    "            label_gender = filename_extracted[3].split(\".\")[0]\n",
    "            \n",
    "            # 0 for male and 1 for female\n",
    "            if label_gender == 'male':\n",
    "                label_gender = 0\n",
    "            else:\n",
    "                label_gender = 1\n",
    "            labels = [label_gender,filename_extracted[2]]\n",
    "        \n",
    "            print(labels)\n",
    "            \n",
    "            # store data\n",
    "            data[\"labels_gender\"].append(labels[0])\n",
    "            data[\"labels_ID\"].append(labels[1])\n",
    "            data[\"MFCCs\"].append(MFCCs_smp1.T.tolist())\n",
    "            data[\"files\"].append(f)\n",
    "            \n",
    "            data[\"labels_gender\"].append(labels[0])\n",
    "            data[\"labels_ID\"].append(labels[1])\n",
    "            data[\"MFCCs\"].append(MFCCs_smp2.T.tolist())\n",
    "            data[\"files\"].append(f)\n",
    "                    \n",
    "            data[\"labels_gender\"].append(labels[0])\n",
    "            data[\"labels_ID\"].append(labels[1])\n",
    "            data[\"MFCCs\"].append(MFCCs_smp3.T.tolist())\n",
    "            data[\"files\"].append(f)\n",
    "            \n",
    "    # store in json file\n",
    "    with open(json_path, \"w\") as fp:\n",
    "        json.dump(data, fp, indent=4)\n",
    "    "
   ]
  },
  {
   "cell_type": "code",
   "execution_count": 9,
   "metadata": {},
   "outputs": [
    {
     "name": "stdout",
     "output_type": "stream",
     "text": [
      "wtf12\n",
      "wtf1\n",
      "file path voiceAuth\\HW1_Q4_810102087_female.mp3\n",
      "[1, '810102087']\n",
      "wtf1\n",
      "file path voiceAuth\\HW1_Q4_810103226_male.mp3\n",
      "[0, '810103226']\n",
      "wtf1\n",
      "file path voiceAuth\\HW1_Q6_810102263_male.mp3\n",
      "[0, '810102263']\n",
      "wtf1\n",
      "file path voiceAuth\\HW1_Q6_810103123_female.mp3\n",
      "[1, '810103123']\n",
      "wtf1\n",
      "file path voiceAuth\\HW1_Q6_810199459_male.mp3\n",
      "[0, '810199459']\n",
      "wtf1\n",
      "file path voiceAuth\\HW1_Q6_810199489_female.mp3\n",
      "[1, '810199489']\n"
     ]
    }
   ],
   "source": [
    "prepare_dataset(DATASET_PATH, JSON_PATH)"
   ]
  }
 ],
 "metadata": {
  "kernelspec": {
   "display_name": "base",
   "language": "python",
   "name": "python3"
  },
  "language_info": {
   "codemirror_mode": {
    "name": "ipython",
    "version": 3
   },
   "file_extension": ".py",
   "mimetype": "text/x-python",
   "name": "python",
   "nbconvert_exporter": "python",
   "pygments_lexer": "ipython3",
   "version": "3.10.9"
  }
 },
 "nbformat": 4,
 "nbformat_minor": 2
}
